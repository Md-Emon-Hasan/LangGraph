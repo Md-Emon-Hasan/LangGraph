{
 "cells": [
  {
   "cell_type": "markdown",
   "metadata": {},
   "source": [
    "# ***Chatbots With Langgraph***"
   ]
  },
  {
   "cell_type": "code",
   "execution_count": 2,
   "metadata": {},
   "outputs": [],
   "source": [
    "from dotenv import load_dotenv\n",
    "import os\n",
    "from langchain_groq import ChatGroq\n",
    "from typing import Annotated\n",
    "from typing_extensions import TypedDict\n",
    "from langgraph.graph import StateGraph, START, END\n",
    "from langgraph.graph.message import add_messages"
   ]
  },
  {
   "cell_type": "code",
   "execution_count": 3,
   "metadata": {},
   "outputs": [
    {
     "data": {
      "text/plain": [
       "True"
      ]
     },
     "execution_count": 3,
     "metadata": {},
     "output_type": "execute_result"
    }
   ],
   "source": [
    "# Load environment variables\n",
    "load_dotenv()"
   ]
  },
  {
   "cell_type": "code",
   "execution_count": 7,
   "metadata": {},
   "outputs": [],
   "source": [
    "# Set environment variables\n",
    "os.environ[\"LANGCHAIN_API_KEY\"] = os.getenv('LANGSMITH_API_KEY')\n",
    "os.environ[\"LANGCHAIN_TRACING_V2\"] = \"true\"\n",
    "os.environ[\"LANGCHAIN_PROJECT\"] = \"CourseLanggraph\""
   ]
  },
  {
   "cell_type": "code",
   "execution_count": 8,
   "metadata": {},
   "outputs": [],
   "source": [
    "# Initialize the ChatGroq model\n",
    "groq_api_key = os.getenv('GROQ_API_KEY')\n",
    "llm = ChatGroq(groq_api_key=groq_api_key, model_name=\"Gemma2-9b-It\")"
   ]
  },
  {
   "cell_type": "code",
   "execution_count": 9,
   "metadata": {},
   "outputs": [],
   "source": [
    "# Define the state for the chatbot\n",
    "class State(TypedDict):\n",
    "    messages: Annotated[list, add_messages]"
   ]
  },
  {
   "cell_type": "code",
   "execution_count": 10,
   "metadata": {},
   "outputs": [],
   "source": [
    "# Initialize the state graph\n",
    "graph_builder = StateGraph(State)"
   ]
  },
  {
   "cell_type": "code",
   "execution_count": 11,
   "metadata": {},
   "outputs": [],
   "source": [
    "# Define the chatbot function\n",
    "def chatbot(state: State):\n",
    "    return {\"messages\": llm.invoke(state['messages'])}"
   ]
  },
  {
   "cell_type": "code",
   "execution_count": 12,
   "metadata": {},
   "outputs": [
    {
     "data": {
      "text/plain": [
       "<langgraph.graph.state.StateGraph at 0x2d05d1d3550>"
      ]
     },
     "execution_count": 12,
     "metadata": {},
     "output_type": "execute_result"
    }
   ],
   "source": [
    "# Add nodes and edges to the graph\n",
    "graph_builder.add_node(\"chatbot\", chatbot)\n",
    "graph_builder.add_edge(START, \"chatbot\")\n",
    "graph_builder.add_edge(\"chatbot\", END)"
   ]
  },
  {
   "cell_type": "code",
   "execution_count": 13,
   "metadata": {},
   "outputs": [],
   "source": [
    "# Compile the graph\n",
    "graph = graph_builder.compile()"
   ]
  },
  {
   "cell_type": "code",
   "execution_count": 14,
   "metadata": {},
   "outputs": [],
   "source": [
    "# Function to display the chatbot's response\n",
    "def display_response(response):\n",
    "    for event in response:\n",
    "        for value in event.values():\n",
    "            print(\"Assistant:\", value[\"messages\"].content)"
   ]
  },
  {
   "cell_type": "code",
   "execution_count": 15,
   "metadata": {},
   "outputs": [
    {
     "name": "stdout",
     "output_type": "stream",
     "text": [
      "Assistant: AI, or **Artificial Intelligence**, is a broad field in computer science that aims to create machines capable of performing tasks that typically require human intelligence.\n",
      "\n",
      "Here's a breakdown:\n",
      "\n",
      "**What AI can do:**\n",
      "\n",
      "* **Learn from data:** AI systems can analyze large amounts of data and identify patterns, trends, and insights.\n",
      "* **Make decisions:** Based on the patterns they learn, AI can make predictions and recommendations.\n",
      "* **Solve problems:** AI can be used to solve complex problems, such as diagnosing diseases or optimizing logistics.\n",
      "* **Understand and generate language:** AI can understand human language and generate text, translate languages, and write different kinds of creative content.\n",
      "* **Recognize patterns:** AI can recognize patterns in images, sound, and other data.\n",
      "\n",
      "**Types of AI:**\n",
      "\n",
      "* **Narrow or Weak AI:** Designed to perform a specific task, like playing chess or recommending products. Most AI we see today falls into this category.\n",
      "* **General or Strong AI:** Hypothetical AI with human-level intelligence and the ability to perform any intellectual task a human can.\n",
      "* **Super AI:** Hypothetical AI that surpasses human intelligence in all aspects.\n",
      "\n",
      "**How AI works:**\n",
      "\n",
      "AI systems are powered by algorithms, which are sets of instructions that tell the computer how to process data. These algorithms are trained on large datasets, allowing them to learn and improve over time.\n",
      "\n",
      "**Examples of AI in action:**\n",
      "\n",
      "* **Self-driving cars:** Use AI to navigate roads and avoid obstacles.\n",
      "* **Virtual assistants:** Like Siri and Alexa, use AI to understand and respond to voice commands.\n",
      "* **Recommendation systems:** Used by Netflix and Amazon to suggest movies and products you might like.\n",
      "* **Medical diagnosis:** AI can help doctors diagnose diseases by analyzing medical images and patient data.\n",
      "\n",
      "**AI is a rapidly evolving field with the potential to transform many aspects of our lives.**\n",
      "\n",
      "\n",
      "Let me know if you have any other questions!\n",
      "\n",
      "Assistant: Whether or not machine learning (ML) is overrated is a complex question with no easy answer. It depends on your perspective and what you're looking for.\n",
      "\n",
      "**Arguments for ML being overrated:**\n",
      "\n",
      "* **Hype vs. Reality:** There's a lot of hype surrounding ML, often leading to unrealistic expectations. Many applications touted as \"AI-powered\" are simply using basic algorithms that don't truly demonstrate advanced intelligence.\n",
      "* **Data Dependency:** ML models rely heavily on large, high-quality datasets. This data can be expensive and time-consuming to acquire and clean, and biases in the data can lead to unfair or inaccurate results.\n",
      "* **Black Box Problem:** Many ML models are complex and opaque, making it difficult to understand how they arrive at their outputs. This lack of transparency can be problematic in situations where accountability and explainability are crucial.\n",
      "* **Overfitting:** ML models can sometimes \"overfit\" to their training data, meaning they perform well on the data they've seen but poorly on new, unseen data. This can limit their real-world applicability.\n",
      "\n",
      "**Arguments against ML being overrated:**\n",
      "\n",
      "* **Significant Advancements:** ML has made remarkable progress in recent years, achieving state-of-the-art performance in areas like image recognition, natural language processing, and game playing.\n",
      "* **Solving Complex Problems:** ML can tackle complex problems that are difficult or impossible for humans to solve, such as analyzing massive datasets or identifying patterns in complex systems.\n",
      "* **Transformative Potential:** ML has the potential to revolutionize many industries, from healthcare and finance to transportation and manufacturing.\n",
      "\n",
      "**Conclusion:**\n",
      "\n",
      "ML is a powerful tool with both significant potential and limitations. It's not inherently overrated, but it's important to have realistic expectations and be aware of its potential drawbacks. The hype surrounding ML can sometimes obscure the reality of its capabilities, so it's crucial to critically evaluate its applications and understand the underlying technology.\n",
      "\n",
      "Goodbye!\n"
     ]
    }
   ],
   "source": [
    "# Main loop to interact with the chatbot\n",
    "if __name__ == \"__main__\":\n",
    "    while True:\n",
    "        user_input = input(\"User: \")\n",
    "        if user_input.lower() in [\"quit\", \"q\"]:\n",
    "            print(\"Goodbye!\")\n",
    "            break\n",
    "        response = graph.stream({'messages': (\"user\", user_input)})\n",
    "        display_response(response)"
   ]
  }
 ],
 "metadata": {
  "kernelspec": {
   "display_name": "Python 3",
   "language": "python",
   "name": "python3"
  },
  "language_info": {
   "codemirror_mode": {
    "name": "ipython",
    "version": 3
   },
   "file_extension": ".py",
   "mimetype": "text/x-python",
   "name": "python",
   "nbconvert_exporter": "python",
   "pygments_lexer": "ipython3",
   "version": "3.11.9"
  }
 },
 "nbformat": 4,
 "nbformat_minor": 2
}
